{
 "cells": [
  {
   "cell_type": "code",
   "execution_count": 1,
   "id": "90e99fd2-e7e8-46f1-a73f-89fe676b5986",
   "metadata": {},
   "outputs": [
    {
     "data": {
      "text/plain": [
       "True"
      ]
     },
     "execution_count": 1,
     "metadata": {},
     "output_type": "execute_result"
    }
   ],
   "source": [
    "from dotenv import find_dotenv, load_dotenv\n",
    "\n",
    "load_dotenv(find_dotenv(), override=True)"
   ]
  },
  {
   "cell_type": "code",
   "execution_count": 6,
   "id": "87f3f7e0-a260-4650-885c-501c97b953ee",
   "metadata": {},
   "outputs": [],
   "source": [
    "from langchain_openai import ChatOpenAI\n",
    "from langchain.schema import SystemMessage\n",
    "from langchain.chains import LLMChain\n",
    "from langchain.prompts import ChatPromptTemplate, HumanMessagePromptTemplate, MessagesPlaceholder"
   ]
  },
  {
   "cell_type": "code",
   "execution_count": 4,
   "id": "fcde4f96-37b5-481f-9a51-b2479871d749",
   "metadata": {},
   "outputs": [
    {
     "name": "stdin",
     "output_type": "stream",
     "text": [
      "Your prompt:  Odisha is ...\n"
     ]
    },
    {
     "name": "stdout",
     "output_type": "stream",
     "text": [
      "\n",
      "\n",
      "\u001b[1m> Entering new LLMChain chain...\u001b[0m\n",
      "Prompt after formatting:\n",
      "\u001b[32;1m\u001b[1;3mSystem: You are a chatbot having conversation with human\n",
      "Human: Odisha is ...\u001b[0m\n",
      "\n",
      "\u001b[1m> Finished chain.\u001b[0m\n",
      "a state in eastern India known for its rich cultural heritage, temples, beaches, and wildlife sanctuaries. It is also famous for its classical dance forms like Odissi and its delicious cuisine. Would you like to know more about Odisha?\n",
      "--------------------------------------------------\n"
     ]
    },
    {
     "name": "stdin",
     "output_type": "stream",
     "text": [
      "Your prompt:  What is the population of Odisha\n"
     ]
    },
    {
     "name": "stdout",
     "output_type": "stream",
     "text": [
      "\n",
      "\n",
      "\u001b[1m> Entering new LLMChain chain...\u001b[0m\n",
      "Prompt after formatting:\n",
      "\u001b[32;1m\u001b[1;3mSystem: You are a chatbot having conversation with human\n",
      "Human: What is the population of Odisha\u001b[0m\n",
      "\n",
      "\u001b[1m> Finished chain.\u001b[0m\n",
      "As of 2021, the estimated population of Odisha, a state in eastern India, is approximately 46 million.\n",
      "--------------------------------------------------\n"
     ]
    },
    {
     "name": "stdin",
     "output_type": "stream",
     "text": [
      "Your prompt:  Tell me its history\n"
     ]
    },
    {
     "name": "stdout",
     "output_type": "stream",
     "text": [
      "\n",
      "\n",
      "\u001b[1m> Entering new LLMChain chain...\u001b[0m\n",
      "Prompt after formatting:\n",
      "\u001b[32;1m\u001b[1;3mSystem: You are a chatbot having conversation with human\n",
      "Human: Tell me its history\u001b[0m\n",
      "\n",
      "\u001b[1m> Finished chain.\u001b[0m\n",
      "The field of chatbots has a rich and diverse history that dates back several decades. The first chatbot, named ELIZA, was created in the 1960s by computer scientist Joseph Weizenbaum. ELIZA was designed to simulate human-like conversation by using simple pattern-matching rules to respond to text-based input.\n",
      "\n",
      "In the following years, advancements in artificial intelligence and natural language processing led to the development of more sophisticated chatbots, such as ALICE and Jabberwacky. These chatbots were able to engage in more realistic and contextually relevant conversations with users.\n",
      "\n",
      "With the rise of messaging platforms and the widespread adoption of smartphones, chatbots have become increasingly popular in recent years. Businesses and organizations have started using chatbots to provide customer support, automate tasks, and improve user experiences.\n",
      "\n",
      "Today, chatbots continue to evolve with the integration of machine learning, deep learning, and other AI technologies. They have become an integral part of the digital landscape, offering a convenient and efficient way for humans to interact with computers and access information.\n",
      "--------------------------------------------------\n"
     ]
    },
    {
     "name": "stdin",
     "output_type": "stream",
     "text": [
      "Your prompt:  Which state we are discussing on?\n"
     ]
    },
    {
     "name": "stdout",
     "output_type": "stream",
     "text": [
      "\n",
      "\n",
      "\u001b[1m> Entering new LLMChain chain...\u001b[0m\n",
      "Prompt after formatting:\n",
      "\u001b[32;1m\u001b[1;3mSystem: You are a chatbot having conversation with human\n",
      "Human: Which state we are discussing on?\u001b[0m\n",
      "\n",
      "\u001b[1m> Finished chain.\u001b[0m\n",
      "We are not discussing any specific state at the moment. Is there a particular state you would like to talk about?\n",
      "--------------------------------------------------\n"
     ]
    },
    {
     "name": "stdin",
     "output_type": "stream",
     "text": [
      "Your prompt:  exit\n"
     ]
    },
    {
     "name": "stdout",
     "output_type": "stream",
     "text": [
      "Goodbye!\n"
     ]
    }
   ],
   "source": [
    "llm = ChatOpenAI(model='gpt-3.5-turbo', temperature=1)\n",
    "\n",
    "prompt = ChatPromptTemplate(\n",
    "    input_variables=['content'],\n",
    "    messages=[\n",
    "        SystemMessage(content='You are a chatbot having conversation with human'),\n",
    "        HumanMessagePromptTemplate.from_template('{content}')\n",
    "    ]\n",
    ")\n",
    "\n",
    "chain = LLMChain(\n",
    "    llm=llm,\n",
    "    prompt=prompt,\n",
    "    verbose=True\n",
    ")\n",
    "\n",
    "while True:\n",
    "    content = input('Your prompt: ')\n",
    "    if content in ['quit', 'exit', 'bye']:\n",
    "        print('Goodbye!')\n",
    "        break\n",
    "    response = chain.run({'content':content})\n",
    "    print(response)\n",
    "    print('-'*50)"
   ]
  },
  {
   "cell_type": "code",
   "execution_count": 5,
   "id": "408331dc-122b-4c79-8727-e180b0e95ab8",
   "metadata": {},
   "outputs": [
    {
     "name": "stdin",
     "output_type": "stream",
     "text": [
      "Your prompt:  distance from mumbai to bhubaneswar\n"
     ]
    },
    {
     "name": "stdout",
     "output_type": "stream",
     "text": [
      "\n",
      "\n",
      "\u001b[1m> Entering new LLMChain chain...\u001b[0m\n",
      "Prompt after formatting:\n",
      "\u001b[32;1m\u001b[1;3mSystem: You are a chatbot having conversation with human. Respond in Hindi\n",
      "Human: distance from mumbai to bhubaneswar\u001b[0m\n",
      "\n",
      "\u001b[1m> Finished chain.\u001b[0m\n",
      "मुंबई से भुवनेश्वर की दूरी करीब 1600 किलोमीटर है।\n",
      "--------------------------------------------------\n"
     ]
    },
    {
     "name": "stdin",
     "output_type": "stream",
     "text": [
      "Your prompt:  top 5 cities in India\n"
     ]
    },
    {
     "name": "stdout",
     "output_type": "stream",
     "text": [
      "\n",
      "\n",
      "\u001b[1m> Entering new LLMChain chain...\u001b[0m\n",
      "Prompt after formatting:\n",
      "\u001b[32;1m\u001b[1;3mSystem: You are a chatbot having conversation with human. Respond in Hindi\n",
      "Human: top 5 cities in India\u001b[0m\n",
      "\n",
      "\u001b[1m> Finished chain.\u001b[0m\n",
      "1. मुंबई\n",
      "2. दिल्ली\n",
      "3. बैंगलोर\n",
      "4. कोलकाता\n",
      "5. चेन्नई\n",
      "--------------------------------------------------\n"
     ]
    },
    {
     "name": "stdin",
     "output_type": "stream",
     "text": [
      "Your prompt:  Bye\n"
     ]
    },
    {
     "name": "stdout",
     "output_type": "stream",
     "text": [
      "\n",
      "\n",
      "\u001b[1m> Entering new LLMChain chain...\u001b[0m\n",
      "Prompt after formatting:\n",
      "\u001b[32;1m\u001b[1;3mSystem: You are a chatbot having conversation with human. Respond in Hindi\n",
      "Human: Bye\u001b[0m\n",
      "\n",
      "\u001b[1m> Finished chain.\u001b[0m\n",
      "अलविदा! फिर मिलेंगे।\n",
      "--------------------------------------------------\n"
     ]
    },
    {
     "name": "stdin",
     "output_type": "stream",
     "text": [
      "Your prompt:  exit\n"
     ]
    },
    {
     "name": "stdout",
     "output_type": "stream",
     "text": [
      "Goodbye!\n"
     ]
    }
   ],
   "source": [
    "llm = ChatOpenAI(model='gpt-3.5-turbo', temperature=1)\n",
    "\n",
    "prompt = ChatPromptTemplate(\n",
    "    input_variables=['content'],\n",
    "    messages=[\n",
    "        SystemMessage(content='You are a chatbot having conversation with human. Respond in Hindi'),\n",
    "        HumanMessagePromptTemplate.from_template('{content}')\n",
    "    ]\n",
    ")\n",
    "\n",
    "chain = LLMChain(\n",
    "    llm=llm,\n",
    "    prompt=prompt,\n",
    "    verbose=True\n",
    ")\n",
    "\n",
    "while True:\n",
    "    content = input('Your prompt: ')\n",
    "    if content in ['quit', 'exit', 'bye']:\n",
    "        print('Goodbye!')\n",
    "        break\n",
    "    response = chain.run({'content':content})\n",
    "    print(response)\n",
    "    print('-'*50)"
   ]
  },
  {
   "cell_type": "markdown",
   "id": "4f792ca3-5e55-4701-b918-80e5594514f6",
   "metadata": {},
   "source": [
    "### Chat Memory"
   ]
  },
  {
   "cell_type": "code",
   "execution_count": 7,
   "id": "cfaa12fb-8756-46f7-b5bf-bedd8680afe1",
   "metadata": {},
   "outputs": [],
   "source": [
    "from langchain.memory import ConversationBufferMemory"
   ]
  },
  {
   "cell_type": "code",
   "execution_count": 8,
   "id": "560ea3dd-d6d0-449a-bbf5-938cb42dd66c",
   "metadata": {},
   "outputs": [
    {
     "name": "stdin",
     "output_type": "stream",
     "text": [
      "Your prompt:  Who is the first President from Odisha?\n"
     ]
    },
    {
     "name": "stdout",
     "output_type": "stream",
     "text": [
      "\n",
      "\n",
      "\u001b[1m> Entering new LLMChain chain...\u001b[0m\n",
      "Prompt after formatting:\n",
      "\u001b[32;1m\u001b[1;3mSystem: You are a chatbot having conversation with human. Respond in Hindi\n",
      "Human: Who is the first President from Odisha?\u001b[0m\n",
      "\n",
      "\u001b[1m> Finished chain.\u001b[0m\n",
      "ओडिशा का पहला राष्ट्रपति द्र. राजेंद्र प्रसाद थे। उन्होंने भारतीय स्वतंत्रता संग्राम में भाग लिया था और स्वतंत्र भारत के पहले राष्ट्रपति के रूप में कार्य किया।\n",
      "--------------------------------------------------\n"
     ]
    },
    {
     "name": "stdin",
     "output_type": "stream",
     "text": [
      "Your prompt:  Which state we are discussing about?\n"
     ]
    },
    {
     "name": "stdout",
     "output_type": "stream",
     "text": [
      "\n",
      "\n",
      "\u001b[1m> Entering new LLMChain chain...\u001b[0m\n",
      "Prompt after formatting:\n",
      "\u001b[32;1m\u001b[1;3mSystem: You are a chatbot having conversation with human. Respond in Hindi\n",
      "Human: Who is the first President from Odisha?\n",
      "AI: ओडिशा का पहला राष्ट्रपति द्र. राजेंद्र प्रसाद थे। उन्होंने भारतीय स्वतंत्रता संग्राम में भाग लिया था और स्वतंत्र भारत के पहले राष्ट्रपति के रूप में कार्य किया।\n",
      "Human: Which state we are discussing about?\u001b[0m\n",
      "\n",
      "\u001b[1m> Finished chain.\u001b[0m\n",
      "हम ओडिशा राज्य के बारे में बात कर रहे हैं।\n",
      "--------------------------------------------------\n"
     ]
    },
    {
     "name": "stdin",
     "output_type": "stream",
     "text": [
      "Your prompt:  Rajendra Prasad was from Bihar not from Odisha. Can you say who is Draupadi Murmu?\n"
     ]
    },
    {
     "name": "stdout",
     "output_type": "stream",
     "text": [
      "\n",
      "\n",
      "\u001b[1m> Entering new LLMChain chain...\u001b[0m\n",
      "Prompt after formatting:\n",
      "\u001b[32;1m\u001b[1;3mSystem: You are a chatbot having conversation with human. Respond in Hindi\n",
      "Human: Who is the first President from Odisha?\n",
      "AI: ओडिशा का पहला राष्ट्रपति द्र. राजेंद्र प्रसाद थे। उन्होंने भारतीय स्वतंत्रता संग्राम में भाग लिया था और स्वतंत्र भारत के पहले राष्ट्रपति के रूप में कार्य किया।\n",
      "Human: Which state we are discussing about?\n",
      "AI: हम ओडिशा राज्य के बारे में बात कर रहे हैं।\n",
      "Human: Rajendra Prasad was from Bihar not from Odisha. Can you say who is Draupadi Murmu?\u001b[0m\n",
      "\n",
      "\u001b[1m> Finished chain.\u001b[0m\n",
      "आप सही हैं, राजेंद्र प्रसाद बिहार के हैं। द्रौपदी मुर्मू एक भारतीय राजनेता हैं, वे झारखंड की पहली महिला मुख्यमंत्री रह चुकी हैं और वर्तमान में भारतीय गणराज्य की पहली महिला राष्ट्रपति हैं।\n",
      "--------------------------------------------------\n"
     ]
    },
    {
     "name": "stdin",
     "output_type": "stream",
     "text": [
      "Your prompt:  exit\n"
     ]
    },
    {
     "name": "stdout",
     "output_type": "stream",
     "text": [
      "Goodbye!\n"
     ]
    }
   ],
   "source": [
    "llm = ChatOpenAI(model='gpt-3.5-turbo', temperature=1)\n",
    "\n",
    "memory = ConversationBufferMemory(\n",
    "    memory_key='chat_history',\n",
    "    return_messages=True\n",
    ")\n",
    "\n",
    "prompt = ChatPromptTemplate(\n",
    "    input_variables=['content'],\n",
    "    messages=[\n",
    "        SystemMessage(content='You are a chatbot having conversation with human. Respond in Hindi'),\n",
    "        MessagesPlaceholder(variable_name='chat_history'), #where the memory will be stored\n",
    "        HumanMessagePromptTemplate.from_template('{content}')\n",
    "    ]\n",
    ")\n",
    "\n",
    "chain = LLMChain(\n",
    "    llm=llm,\n",
    "    prompt=prompt,\n",
    "    memory=memory,\n",
    "    verbose=True\n",
    ")\n",
    "\n",
    "while True:\n",
    "    content = input('Your prompt: ')\n",
    "    if content in ['quit', 'exit', 'bye']:\n",
    "        print('Goodbye!')\n",
    "        break\n",
    "    response = chain.run({'content':content})\n",
    "    print(response)\n",
    "    print('-'*50)"
   ]
  },
  {
   "cell_type": "markdown",
   "id": "e98d28a1-4392-4c01-af8e-746e9f24ab3f",
   "metadata": {},
   "source": [
    "### Storing Chat in External Memory"
   ]
  },
  {
   "cell_type": "code",
   "execution_count": 10,
   "id": "d4e7bf38-cea8-4604-924f-dcd3cfc30b7a",
   "metadata": {},
   "outputs": [
    {
     "name": "stdin",
     "output_type": "stream",
     "text": [
      "Your prompt:  and what the speed in air?\n"
     ]
    },
    {
     "name": "stdout",
     "output_type": "stream",
     "text": [
      "\n",
      "\n",
      "\u001b[1m> Entering new LLMChain chain...\u001b[0m\n",
      "Prompt after formatting:\n",
      "\u001b[32;1m\u001b[1;3mSystem: You are a chatbot having conversation with human. Respond in Hindi\n",
      "Human: what is the speed of the light?\n",
      "AI: प्रकाश की गति है 299,792 किलोमीटर प्रति सेकंड।\n",
      "Human: What is speed in water?\n",
      "AI: पानी में पानी की गति विभिन्न प्रकार के पानी पर निर्भर करती है, लेकिन सामान्य रूप से पानी की गति 4.5 से 5.5 किलोमीटर प्रति घंटा होती है।\n",
      "Human: and what the speed in air?\u001b[0m\n",
      "\n",
      "\u001b[1m> Finished chain.\u001b[0m\n",
      "हवा में गति भी विभिन्न कारकों पर निर्भर करती है, जैसे तापमान, दबाव, और वायु दिशा। सामान्य रूप से हवा में गति उड़ान जहाजों के लिए अधिक होती है जिसके लिए हवा जादू होता है, लेकिन उसके लिए औसत गति 800 से 900 किलोमीटर प्रति घंटा होती है।\n",
      "--------------------------------------------------\n"
     ]
    },
    {
     "name": "stdin",
     "output_type": "stream",
     "text": [
      "Your prompt:  what we are talking about\n"
     ]
    },
    {
     "name": "stdout",
     "output_type": "stream",
     "text": [
      "\n",
      "\n",
      "\u001b[1m> Entering new LLMChain chain...\u001b[0m\n",
      "Prompt after formatting:\n",
      "\u001b[32;1m\u001b[1;3mSystem: You are a chatbot having conversation with human. Respond in Hindi\n",
      "Human: what is the speed of the light?\n",
      "AI: प्रकाश की गति है 299,792 किलोमीटर प्रति सेकंड।\n",
      "Human: What is speed in water?\n",
      "AI: पानी में पानी की गति विभिन्न प्रकार के पानी पर निर्भर करती है, लेकिन सामान्य रूप से पानी की गति 4.5 से 5.5 किलोमीटर प्रति घंटा होती है।\n",
      "Human: and what the speed in air?\n",
      "AI: हवा में गति भी विभिन्न कारकों पर निर्भर करती है, जैसे तापमान, दबाव, और वायु दिशा। सामान्य रूप से हवा में गति उड़ान जहाजों के लिए अधिक होती है जिसके लिए हवा जादू होता है, लेकिन उसके लिए औसत गति 800 से 900 किलोमीटर प्रति घंटा होती है।\n",
      "Human: what we are talking about\u001b[0m\n",
      "\n",
      "\u001b[1m> Finished chain.\u001b[0m\n",
      "हम गति यानी स्पीड के बारे में बात कर रहे थे। पहले प्रकाश की गति और फिर पानी और हवा में गति के बारे में जानकारी दी गई।\n",
      "--------------------------------------------------\n"
     ]
    },
    {
     "name": "stdin",
     "output_type": "stream",
     "text": [
      "Your prompt:  bye\n"
     ]
    },
    {
     "name": "stdout",
     "output_type": "stream",
     "text": [
      "Goodbye!\n"
     ]
    }
   ],
   "source": [
    "from langchain.memory import ConversationBufferMemory, FileChatMessageHistory\n",
    "\n",
    "llm = ChatOpenAI(model='gpt-3.5-turbo', temperature=1)\n",
    "\n",
    "history = FileChatMessageHistory('chat_history.json')\n",
    "\n",
    "memory = ConversationBufferMemory(\n",
    "    memory_key='chat_history',\n",
    "    chat_memory=history,\n",
    "    return_messages=True\n",
    ")\n",
    "\n",
    "prompt = ChatPromptTemplate(\n",
    "    input_variables=['content'],\n",
    "    messages=[\n",
    "        SystemMessage(content='You are a chatbot having conversation with human. Respond in Hindi'),\n",
    "        MessagesPlaceholder(variable_name='chat_history'), #where the memory will be stored\n",
    "        HumanMessagePromptTemplate.from_template('{content}')\n",
    "    ]\n",
    ")\n",
    "\n",
    "chain = LLMChain(\n",
    "    llm=llm,\n",
    "    prompt=prompt,\n",
    "    memory=memory,\n",
    "    verbose=True\n",
    ")\n",
    "\n",
    "while True:\n",
    "    content = input('Your prompt: ')\n",
    "    if content in ['quit', 'exit', 'bye']:\n",
    "        print('Goodbye!')\n",
    "        break\n",
    "    response = chain.run({'content':content})\n",
    "    print(response)\n",
    "    print('-'*50)"
   ]
  }
 ],
 "metadata": {
  "kernelspec": {
   "display_name": "Python 3 (ipykernel)",
   "language": "python",
   "name": "python3"
  },
  "language_info": {
   "codemirror_mode": {
    "name": "ipython",
    "version": 3
   },
   "file_extension": ".py",
   "mimetype": "text/x-python",
   "name": "python",
   "nbconvert_exporter": "python",
   "pygments_lexer": "ipython3",
   "version": "3.11.5"
  }
 },
 "nbformat": 4,
 "nbformat_minor": 5
}
